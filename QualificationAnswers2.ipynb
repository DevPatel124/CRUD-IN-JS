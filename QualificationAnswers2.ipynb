{
  "nbformat": 4,
  "nbformat_minor": 0,
  "metadata": {
    "colab": {
      "provenance": [],
      "authorship_tag": "ABX9TyOFM9ATYzhP1AY6f00GtnGm",
      "include_colab_link": true
    },
    "kernelspec": {
      "name": "python3",
      "display_name": "Python 3"
    },
    "language_info": {
      "name": "python"
    }
  },
  "cells": [
    {
      "cell_type": "markdown",
      "metadata": {
        "id": "view-in-github",
        "colab_type": "text"
      },
      "source": [
        "<a href=\"https://colab.research.google.com/github/DevPatel124/CRUD-IN-JS/blob/main/QualificationAnswers2.ipynb\" target=\"_parent\"><img src=\"https://colab.research.google.com/assets/colab-badge.svg\" alt=\"Open In Colab\"/></a>"
      ]
    },
    {
      "cell_type": "code",
      "source": [
        "import pandas as pd\n",
        "import sqlite3"
      ],
      "metadata": {
        "id": "E_E-Qr74OS--"
      },
      "execution_count": 2,
      "outputs": []
    },
    {
      "cell_type": "code",
      "source": [
        "conn_countries = sqlite3.connect(\"countries1.sql\")\n",
        "conn_languages = sqlite3.connect(\"languages1.sql\")\n",
        "excel_file = 'QualificationAnswers.xlsx'"
      ],
      "metadata": {
        "id": "8H8EEyTvZiO8"
      },
      "execution_count": 7,
      "outputs": []
    },
    {
      "cell_type": "code",
      "source": [
        "for filename in [\"countries1.sql\", \"languages1.sql\"]:\n",
        "    with open(filename, \"r\") as f:\n",
        "        sql_statements = f.read().split(\";\")\n",
        "\n",
        "    conn = conn_countries if filename == \"countries1.sql\" and filename == \"languages1.sql\" else conn_languages\n",
        "\n",
        "    for statement in sql_statements:\n",
        "        statement = statement.strip()  # Remove whitespaces\n",
        "        if statement and not statement.startswith(\"--\"):  # Skip empty lines and comments\n",
        "            if statement.lower().startswith(\"set\"):  # Handle various SET statements\n",
        "                if \"time_zone\" in statement:\n",
        "                    conn.execute(\"PRAGMA timezone = '+00:00'\")\n",
        "                elif \"names\" in statement:\n",
        "                    pass\n",
        "                else:\n",
        "                    print(f\"Skipping unsupported SET statement: {statement}\")  # Log other SET statements\n",
        "            elif statement.lower().startswith(\"start transaction\"):\n",
        "                conn.execute(\"BEGIN\")\n",
        "            else:\n",
        "                conn.execute(statement)"
      ],
      "metadata": {
        "id": "C2VexCLeXjFm"
      },
      "execution_count": 8,
      "outputs": []
    },
    {
      "cell_type": "code",
      "source": [
        "language_codes = pd.read_sql(\"SELECT languageName, languageCode2 FROM languages1\", conn_languages)\n",
        "country_codes = pd.read_sql(\"SELECT countries_name, countries_iso_code_2 FROM countries1\", conn_countries)"
      ],
      "metadata": {
        "id": "-g1bmvUppbPz"
      },
      "execution_count": null,
      "outputs": []
    },
    {
      "cell_type": "code",
      "source": [
        "writer = pd.ExcelWriter(excel_file, engine='openpyxl', mode='a')"
      ],
      "metadata": {
        "id": "ZfWGhNNGYYHj"
      },
      "execution_count": null,
      "outputs": []
    },
    {
      "cell_type": "code",
      "source": [
        "for sheet_name in pd.ExcelFile(excel_file).sheet_names:\n",
        "    df = pd.read_excel(excel_file, sheet_name=sheet_name)\n",
        "\n",
        "    language, country = sheet_name.split('-')\n",
        "    language_code = language_codes.get(language.title())  # Get language code in uppercase\n",
        "    country_code = country_codes.get(country.title())  # Get country code in uppercase\n",
        "\n",
        "    if language_code and country_code:\n",
        "        language_code = f\"{language_code}-{country_code}\"\n",
        "        if 'Language code' not in df.columns:\n",
        "            df['Language code'] = language_code\n",
        "        else:\n",
        "            print(f\"Skipping sheet '{sheet_name}' as it already has 'Language code' column\")\n",
        "\n",
        "        # Write updated DataFrame back to Excel\n",
        "        df.to_excel(writer, sheet_name=sheet_name, index=False)"
      ],
      "metadata": {
        "id": "MTIYvNKrni_I"
      },
      "execution_count": null,
      "outputs": []
    },
    {
      "cell_type": "code",
      "source": [
        "writer.save()"
      ],
      "metadata": {
        "id": "akzgLtaCqB0I"
      },
      "execution_count": null,
      "outputs": []
    }
  ]
}